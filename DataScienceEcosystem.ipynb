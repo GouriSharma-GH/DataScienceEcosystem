{
 "cells": [
  {
   "cell_type": "markdown",
   "id": "812685dc-7d63-4008-9cbe-2a284036b94c",
   "metadata": {},
   "source": [
    "# Data Science Tools and Ecosystem"
   ]
  },
  {
   "cell_type": "markdown",
   "id": "3f84aabd-9a93-4bcf-a201-df79d6cabf77",
   "metadata": {},
   "source": [
    "In this notebook, Data Science Tools and Ecosystem are summarized."
   ]
  },
  {
   "cell_type": "markdown",
   "id": "e3e0e80d-7900-47c2-8d27-5057d584b8ca",
   "metadata": {},
   "source": [
    "### Some of the popular languages that Data Scientists use are:"
   ]
  },
  {
   "cell_type": "markdown",
   "id": "2df1de14-ef48-4741-86c6-c37b7da1902c",
   "metadata": {},
   "source": [
    "1.Python: Python is the most popular and versatile language for data science. It has a rich ecosystem of libraries and tools (e.g., NumPy, pandas, Scikit-Learn, Matplotlib) that make it a top choice for data manipulation, analysis, and machine learning.\n",
    "\n",
    "2.R: R is a programming language and environment specifically designed for statistical analysis and data visualization. It is commonly used in academia and research for statistical modeling and data exploration."
   ]
  },
  {
   "cell_type": "markdown",
   "id": "330f1203-fddf-4896-87c5-e5bf90a634ed",
   "metadata": {},
   "source": [
    "3.SQL (Structured Query Language): SQL is essential for working with relational databases, which are a common source of structured data in data science. Data scientists use SQL to extract and manipulate data from databases.\n",
    "\n",
    "4.Julia: Julia is a high-performance, general-purpose programming language designed for technical and numerical computing. It's gaining popularity for its speed and ease of integration with other languages."
   ]
  },
  {
   "cell_type": "markdown",
   "id": "6a4f5bfd-16bc-4326-9844-691cf4a4ca67",
   "metadata": {},
   "source": [
    "### Some of the commonly used libraries used by Data Scientists include:"
   ]
  },
  {
   "cell_type": "markdown",
   "id": "e534ac7c-e31a-48a5-afa9-022cef78aae3",
   "metadata": {},
   "source": [
    "1.NumPy: NumPy is a fundamental library for numerical computing in Python. It provides support for arrays and matrices, along with a wide range of mathematical functions, making it essential for data manipulation and scientific computing.\n",
    "\n",
    "2.Pandas: Pandas is a data manipulation library that simplifies data analysis in Python. It offers data structures like DataFrames, making it easy to clean, transform, and analyze data.\n",
    "\n",
    "3.Matplotlib: Matplotlib is a data visualization library in Python. It allows users to create various types of plots, charts, and visualizations for data analysis and presentation.\n",
    "\n",
    "4.Seaborn: Seaborn is a data visualization library built on top of Matplotlib. It provides a high-level interface for creating informative and aesthetically pleasing statistical graphics, simplifying the process of data visualization.\n",
    "\n",
    "5.Scikit-learn: Scikit-learn is a powerful machine learning library for Python. It offers a wide range of machine learning algorithms and tools for tasks like classification, regression, clustering, and model evaluation.\n"
   ]
  },
  {
   "cell_type": "markdown",
   "id": "ea5d7e69-874c-4419-aae3-d22b2fb35cb6",
   "metadata": {},
   "source": [
    "6.TensorFlow: TensorFlow is an open-source machine learning and deep learning framework developed by Google. It's widely used for creating and training neural networks, making it a cornerstone of deep learning in the data science field.\n",
    "\n",
    "7.SciPy: SciPy is a library that builds on NumPy, providing additional scientific and technical computing functions. It includes modules for optimization, integration, linear algebra, and more.\n",
    "\n",
    "8.Statsmodels: Statsmodels is a library for estimating and interpreting statistical models. It offers tools for regression analysis, hypothesis testing, and exploring relationships in data.\n",
    "\n",
    "9.NLTK (Natural Language Toolkit): NLTK is a library for natural language processing in Python. It provides tools and resources for working with human language data, including text analysis, linguistic algorithms, and text classification.\n",
    "\n",
    "10.Jupyter: Jupyter is an interactive computing environment that supports creating and sharing documents called \"notebooks\"."
   ]
  },
  {
   "cell_type": "markdown",
   "id": "eba0c9f9-2ea2-4cb4-8507-9de624cf7330",
   "metadata": {},
   "source": [
    "### Data Science Tools"
   ]
  },
  {
   "cell_type": "code",
   "execution_count": 8,
   "id": "2939a092-a2c3-473f-99ef-2c2b08a2d28f",
   "metadata": {},
   "outputs": [
    {
     "name": "stdout",
     "output_type": "stream",
     "text": [
      "1. Jupyter Notebook\n",
      "2. RStudio\n",
      "3. Visual Studio Code\n"
     ]
    }
   ],
   "source": [
    "\n",
    "tools = [\"Jupyter Notebook\", \"RStudio\", \"Visual Studio Code\"]\n",
    "for i, tool in enumerate(tools, start=1):\n",
    "    print(f\"{i}. {tool}\")\n"
   ]
  },
  {
   "cell_type": "markdown",
   "id": "f87c110b-a17c-4258-9601-7baa1a52097f",
   "metadata": {},
   "source": [
    "### Below are a few examples of evaluating arithmetic expressions in Python:"
   ]
  },
  {
   "cell_type": "code",
   "execution_count": 9,
   "id": "78bdc309-9a72-4c88-861a-9ddaeb5ba768",
   "metadata": {},
   "outputs": [
    {
     "name": "stdout",
     "output_type": "stream",
     "text": [
      "17\n"
     ]
    }
   ],
   "source": [
    "#  This a simple arithmetic expression to mutiply then add integers\n",
    "\n",
    "a = (3*4)+5\n",
    "print(a)\n"
   ]
  },
  {
   "cell_type": "code",
   "execution_count": 11,
   "id": "8af3aac3-0416-4491-9dd5-8a2693089aff",
   "metadata": {},
   "outputs": [
    {
     "name": "stdout",
     "output_type": "stream",
     "text": [
      "3.3333333333333335\n"
     ]
    }
   ],
   "source": [
    "# This will convert 200 minutes to hours by diving by 60\n",
    "minutes=200\n",
    "hour = minutes/60\n",
    "print(hour)\n",
    "\n"
   ]
  },
  {
   "cell_type": "markdown",
   "id": "3463938b-a4c0-4741-80be-8611bf8ea446",
   "metadata": {},
   "source": [
    "### **Objectives:**\n",
    "- Popular languages that data scientists use\n",
    "- Popular libraries of data science\n",
    "- Tools used in data science\n",
    "- Introduction and example of arithmetic expression\n"
   ]
  },
  {
   "cell_type": "markdown",
   "id": "a3404525-23bd-48e7-959d-76872ca5dc22",
   "metadata": {},
   "source": [
    "## Author\n",
    "Gouri Sharma"
   ]
  }
 ],
 "metadata": {
  "kernelspec": {
   "display_name": "Python 3 (ipykernel)",
   "language": "python",
   "name": "python3"
  },
  "language_info": {
   "codemirror_mode": {
    "name": "ipython",
    "version": 3
   },
   "file_extension": ".py",
   "mimetype": "text/x-python",
   "name": "python",
   "nbconvert_exporter": "python",
   "pygments_lexer": "ipython3",
   "version": "3.12.0"
  }
 },
 "nbformat": 4,
 "nbformat_minor": 5
}
